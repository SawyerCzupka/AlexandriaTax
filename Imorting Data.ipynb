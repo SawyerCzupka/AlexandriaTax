{
 "cells": [
  {
   "cell_type": "code",
   "execution_count": 1,
   "id": "46f8c34a",
   "metadata": {},
   "outputs": [],
   "source": [
    "import pandas as pd\n",
    "import numpy as np\n",
    "import seaborn as sns\n",
    "import matplotlib.pyplot as plt"
   ]
  },
  {
   "cell_type": "code",
   "execution_count": 2,
   "id": "3c9eb065-6b57-4f66-9ad0-2cdac2aaaacf",
   "metadata": {},
   "outputs": [
    {
     "name": "stdout",
     "output_type": "stream",
     "text": [
      "Collecting geopy\n",
      "  Obtaining dependency information for geopy from https://files.pythonhosted.org/packages/e1/58/9289c6a03116025cdb61461d99b2493daa4967a80b13755463d71a0affeb/geopy-2.4.0-py3-none-any.whl.metadata\n",
      "  Downloading geopy-2.4.0-py3-none-any.whl.metadata (6.8 kB)\n",
      "Collecting geographiclib<3,>=1.52 (from geopy)\n",
      "  Using cached geographiclib-2.0-py3-none-any.whl (40 kB)\n",
      "Using cached geopy-2.4.0-py3-none-any.whl (125 kB)\n",
      "Installing collected packages: geographiclib, geopy\n",
      "Successfully installed geographiclib-2.0 geopy-2.4.0\n"
     ]
    }
   ],
   "source": [
    "!pip install geopy\n",
    "import geopy"
   ]
  },
  {
   "attachments": {},
   "cell_type": "markdown",
   "id": "29c8800b",
   "metadata": {},
   "source": [
    "### Below are Functions for cleaning up strings and converting datatypes:"
   ]
  },
  {
   "cell_type": "code",
   "execution_count": 2,
   "id": "c8afe3bd",
   "metadata": {},
   "outputs": [],
   "source": [
    "remove_chars_Assesement = ['$', ',', \"\\xa0\"]\n",
    "remove_chars_Taxes = ['$', ',', \"\\xa0\", ' **']\n",
    "remove_chars_Year = ['\\xa0', ' *']\n",
    "remove_chars_Address = ['\\xa0']\n",
    "#input characters or character patterns you want removed in the above format\n",
    "\n",
    "def Year_Cleaner(df, col, chars):\n",
    "    result = list()\n",
    "    for i in df[col]:\n",
    "        for char in chars:\n",
    "            i = i.replace(char, '')\n",
    "        result.append(i)\n",
    "    return pd.Series(result).astype(int)\n",
    "\n",
    "def Annual_Assesement_Cleaner(df, col, chars):\n",
    "    result = list()\n",
    "    for i in df[col]:\n",
    "        for char in chars:\n",
    "            i = i.replace(char, '')\n",
    "        result.append(i)\n",
    "    return pd.Series(result).astype(int).astype(float)\n",
    "\n",
    "def Taxes_and_Fees_Cleaner(df, col, chars):\n",
    "    result = list()\n",
    "    for i in df[col]:\n",
    "        i = i.replace('Taxes and fees will be published after Council adopts the budget in May. ', '0')\n",
    "        for char in chars:\n",
    "            i = i.replace(char, '')\n",
    "        result.append(i)\n",
    "    result_series = pd.Series(result).replace('0', np.nan).astype(float)\n",
    "    return result_series\n",
    "\n",
    "def Address_Obj_to_string(df, col, chars):\n",
    "    result = list()\n",
    "    for i in df[col]:\n",
    "        for char in chars:\n",
    "            i = i.replace(char, '')\n",
    "        result.append(i)\n",
    "    return pd.Series(result)\n"
   ]
  },
  {
   "cell_type": "code",
   "execution_count": 3,
   "id": "aee2de2d",
   "metadata": {},
   "outputs": [],
   "source": [
    "#df1 = pd.DataFrame(pd.read_csv('Land_Building_Table.csv')).drop(columns='Unnamed: 0').rename(columns={'A_Assesement' : 'year'})\n",
    "#df1.set_index(['Num', 'year'], inplace=True)\n",
    "#df1"
   ]
  },
  {
   "cell_type": "markdown",
   "id": "8ef0fe10",
   "metadata": {},
   "source": [
    "#### The Cell Below cleans df2 and df3 by:\n",
    "    - Dropping extraneous columns\n",
    "    - Changing column names to be more descriptive\n",
    "    - Converting dtypes from objects to floats and strings where appropriate\n",
    "    - Creating a tax rates column"
   ]
  },
  {
   "cell_type": "code",
   "execution_count": 4,
   "id": "65ba0dce",
   "metadata": {},
   "outputs": [
    {
     "name": "stdout",
     "output_type": "stream",
     "text": [
      "               A_Annual_Assesement  A_Taxes_and_Fees\n",
      "Num      year                                       \n",
      "50299400 2023            4395607.0           2410.80\n",
      "         2022            4395607.0           2296.00\n",
      "         2021            4395607.0           1960.00\n",
      "         2020            4395607.0           1120.00\n",
      "         2019            4395607.0           1120.00\n",
      "...                            ...               ...\n",
      "50469430 2015              56650.0            590.86\n",
      "         2014              56650.0            590.86\n",
      "         2013              56650.0            588.03\n",
      "         2012              56650.0            565.37\n",
      "         2011              56650.0            565.37\n",
      "\n",
      "[484577 rows x 2 columns]\n"
     ]
    }
   ],
   "source": [
    "df2 = pd.DataFrame(pd.read_csv('New_table.csv')).drop(columns='Unnamed: 0').rename(columns={'A_Levy_Year' : 'year'})\n",
    "df2['year'] = Year_Cleaner(df2, 'year', chars=remove_chars_Year)\n",
    "df2['A_Annual_Assesement'] = Annual_Assesement_Cleaner(df2, 'A_Annual_Assesement', chars=remove_chars_Assesement)\n",
    "df2['A_Taxes_and_Fees'] = Taxes_and_Fees_Cleaner(df2, 'A_Taxes_and_Fees', chars=remove_chars_Taxes)\n",
    "df2.drop(df2.loc[df2['A_Annual_Assesement'] == 0].index, inplace=True)\n",
    "df2.drop(df2.loc[df2['A_Taxes_and_Fees'] == 0].index, inplace=True)\n",
    "df2.set_index(['Num', 'year'], inplace=True)\n",
    "print(df2)\n",
    "\n",
    "df3 = pd.DataFrame(pd.read_csv('Table.csv')).drop(columns='Unnamed: 0').rename(columns={'A_Account_Num':'Num'})\n",
    "df3['A_Properties'] = Address_Obj_to_string(df3, 'A_Properties', chars=remove_chars_Address)"
   ]
  },
  {
   "cell_type": "code",
   "execution_count": 5,
   "id": "76decd68",
   "metadata": {},
   "outputs": [
    {
     "name": "stderr",
     "output_type": "stream",
     "text": [
      "C:\\Users\\nschu\\AppData\\Local\\Temp\\ipykernel_30084\\1454120206.py:2: FutureWarning: Series.__getitem__ treating keys as positions is deprecated. In a future version, integer keys will always be treated as labels (consistent with DataFrame behavior). To access a value by position, use `ser.iloc[pos]`\n",
      "  Oji_House_Num = Oji_House[1]\n",
      "C:\\Users\\nschu\\AppData\\Local\\Temp\\ipykernel_30084\\1454120206.py:4: FutureWarning: Series.__getitem__ treating keys as positions is deprecated. In a future version, integer keys will always be treated as labels (consistent with DataFrame behavior). To access a value by position, use `ser.iloc[pos]`\n",
      "  Schuerhoff_House_Num = Schuerhoff_House[1]\n"
     ]
    }
   ],
   "source": [
    "Oji_House = df3.iloc[3517]\n",
    "Oji_House_Num = Oji_House[1]\n",
    "Schuerhoff_House = df3.iloc[3519]\n",
    "Schuerhoff_House_Num = Schuerhoff_House[1]"
   ]
  },
  {
   "cell_type": "code",
   "execution_count": 6,
   "id": "3802e833",
   "metadata": {},
   "outputs": [
    {
     "data": {
      "text/html": [
       "<div>\n",
       "<style scoped>\n",
       "    .dataframe tbody tr th:only-of-type {\n",
       "        vertical-align: middle;\n",
       "    }\n",
       "\n",
       "    .dataframe tbody tr th {\n",
       "        vertical-align: top;\n",
       "    }\n",
       "\n",
       "    .dataframe thead th {\n",
       "        text-align: right;\n",
       "    }\n",
       "</style>\n",
       "<table border=\"1\" class=\"dataframe\">\n",
       "  <thead>\n",
       "    <tr style=\"text-align: right;\">\n",
       "      <th></th>\n",
       "      <th>A_Properties</th>\n",
       "      <th>Num</th>\n",
       "      <th>A_SQFT</th>\n",
       "    </tr>\n",
       "  </thead>\n",
       "  <tbody>\n",
       "    <tr>\n",
       "      <th>0</th>\n",
       "      <td>3000 S 28TH ST</td>\n",
       "      <td>50299410</td>\n",
       "      <td>1</td>\n",
       "    </tr>\n",
       "    <tr>\n",
       "      <th>1</th>\n",
       "      <td>3102 S 28TH ST</td>\n",
       "      <td>50299400</td>\n",
       "      <td>1</td>\n",
       "    </tr>\n",
       "    <tr>\n",
       "      <th>2</th>\n",
       "      <td>3200 S 28TH ST, UNIT 101</td>\n",
       "      <td>50466800</td>\n",
       "      <td>1090</td>\n",
       "    </tr>\n",
       "    <tr>\n",
       "      <th>3</th>\n",
       "      <td>3200 S 28TH ST, UNIT 102</td>\n",
       "      <td>50466810</td>\n",
       "      <td>1280</td>\n",
       "    </tr>\n",
       "    <tr>\n",
       "      <th>4</th>\n",
       "      <td>3200 S 28TH ST, UNIT 201</td>\n",
       "      <td>50466820</td>\n",
       "      <td>700</td>\n",
       "    </tr>\n",
       "    <tr>\n",
       "      <th>...</th>\n",
       "      <td>...</td>\n",
       "      <td>...</td>\n",
       "      <td>...</td>\n",
       "    </tr>\n",
       "    <tr>\n",
       "      <th>39456</th>\n",
       "      <td>400  YOAKUM PY</td>\n",
       "      <td>50469430</td>\n",
       "      <td>0</td>\n",
       "    </tr>\n",
       "    <tr>\n",
       "      <th>39457</th>\n",
       "      <td>450  YOAKUM PY</td>\n",
       "      <td>50469440</td>\n",
       "      <td>1</td>\n",
       "    </tr>\n",
       "    <tr>\n",
       "      <th>39458</th>\n",
       "      <td>3630  ZABRISKIE DR</td>\n",
       "      <td>26312010</td>\n",
       "      <td>1</td>\n",
       "    </tr>\n",
       "    <tr>\n",
       "      <th>39459</th>\n",
       "      <td>3634  ZABRISKIE DR</td>\n",
       "      <td>26312020</td>\n",
       "      <td>1</td>\n",
       "    </tr>\n",
       "    <tr>\n",
       "      <th>39460</th>\n",
       "      <td>3638  ZABRISKIE DR</td>\n",
       "      <td>26312030</td>\n",
       "      <td>1</td>\n",
       "    </tr>\n",
       "  </tbody>\n",
       "</table>\n",
       "<p>39461 rows × 3 columns</p>\n",
       "</div>"
      ],
      "text/plain": [
       "                   A_Properties       Num  A_SQFT\n",
       "0                3000 S 28TH ST  50299410       1\n",
       "1                3102 S 28TH ST  50299400       1\n",
       "2      3200 S 28TH ST, UNIT 101  50466800    1090\n",
       "3      3200 S 28TH ST, UNIT 102  50466810    1280\n",
       "4      3200 S 28TH ST, UNIT 201  50466820     700\n",
       "...                         ...       ...     ...\n",
       "39456            400  YOAKUM PY  50469430       0\n",
       "39457            450  YOAKUM PY  50469440       1\n",
       "39458        3630  ZABRISKIE DR  26312010       1\n",
       "39459        3634  ZABRISKIE DR  26312020       1\n",
       "39460        3638  ZABRISKIE DR  26312030       1\n",
       "\n",
       "[39461 rows x 3 columns]"
      ]
     },
     "execution_count": 6,
     "metadata": {},
     "output_type": "execute_result"
    }
   ],
   "source": [
    "#df3.to_csv('Alexandria_Tax_Info.csv')\n",
    "#df2.to_csv('Alexandria_Property_Holders.csv')\n",
    "df3"
   ]
  },
  {
   "cell_type": "markdown",
   "id": "fd9c26e9-ded5-4301-b407-dcd6053c0320",
   "metadata": {},
   "source": [
    "## Street Address Decoding"
   ]
  },
  {
   "cell_type": "code",
   "execution_count": 32,
   "id": "e12d3baa-5181-4fb8-8c9d-d967886a5f81",
   "metadata": {},
   "outputs": [],
   "source": [
    "from geopy.geocoders import Nominatim, GoogleV3\n",
    "from geopy.exc import GeocoderTimedOut\n",
    "import time\n",
    "\n",
    "def geocode(address):\n",
    "    try:\n",
    "        geolocator = Nominatim(user_agent=\"sawyer_application\")\n",
    "        location = geolocator.geocode(address)\n",
    "        return (location.latitude, location.longitude) if location else (None, None)\n",
    "    except GeocoderTimedOut:\n",
    "        return geocode(address)"
   ]
  },
  {
   "cell_type": "code",
   "execution_count": 33,
   "id": "7b191f68-f712-4998-aa6b-af125809600c",
   "metadata": {},
   "outputs": [],
   "source": [
    "import pandas as pd\n",
    "data = pd.read_csv(\"data/Alexandria_Tax_Info.csv\")"
   ]
  },
  {
   "cell_type": "code",
   "execution_count": 34,
   "id": "c7ed98eb-c199-4e4c-932f-8ca25631e578",
   "metadata": {},
   "outputs": [
    {
     "data": {
      "text/plain": [
       "38896"
      ]
     },
     "execution_count": 34,
     "metadata": {},
     "output_type": "execute_result"
    }
   ],
   "source": [
    "addresses = data['A_Properties'].unique()\n",
    "len(addresses)"
   ]
  },
  {
   "cell_type": "code",
   "execution_count": null,
   "id": "94d67893-ab13-4d4a-a944-ddad3655e774",
   "metadata": {},
   "outputs": [],
   "source": [
    "# addresses = [\n",
    "#     \"1600 Amphitheatre Parkway, Mountain View, CA\",\n",
    "#     \"221B Baker Street, London\",\n",
    "#     # Add more addresses here\n",
    "# ]\n",
    "\n",
    "coordinates = []\n",
    "\n",
    "for address in addresses:\n",
    "    # if \"UNIT\" in address:\n",
    "    #     continue\n",
    "    print(address)\n",
    "    lat, long = geocode(address)\n",
    "    if lat and long:\n",
    "        coordinates.append((address, lat, long))\n",
    "    else:\n",
    "        coordinates.append((address, \"Not found\"))\n",
    "    time.sleep(2)  # To prevent rate limiting\n",
    "\n",
    "for item in coordinates:\n",
    "    print(item)"
   ]
  },
  {
   "cell_type": "code",
   "execution_count": 36,
   "id": "50f23a62-14e3-4525-a59c-37e30f313abf",
   "metadata": {},
   "outputs": [
    {
     "data": {
      "text/plain": [
       "array(['3000 S 28TH ST', '3102 S 28TH ST', '3200 S 28TH ST, UNIT 101',\n",
       "       ..., '3630  ZABRISKIE DR', '3634  ZABRISKIE DR',\n",
       "       '3638  ZABRISKIE DR'], dtype=object)"
      ]
     },
     "execution_count": 36,
     "metadata": {},
     "output_type": "execute_result"
    }
   ],
   "source": [
    "addresses"
   ]
  },
  {
   "cell_type": "code",
   "execution_count": null,
   "id": "a5e911cb-78c3-4a98-b585-666e6ab026e7",
   "metadata": {},
   "outputs": [],
   "source": []
  }
 ],
 "metadata": {
  "kernelspec": {
   "display_name": "Python 3 (ipykernel)",
   "language": "python",
   "name": "python3"
  },
  "language_info": {
   "codemirror_mode": {
    "name": "ipython",
    "version": 3
   },
   "file_extension": ".py",
   "mimetype": "text/x-python",
   "name": "python",
   "nbconvert_exporter": "python",
   "pygments_lexer": "ipython3",
   "version": "3.9.18"
  },
  "vscode": {
   "interpreter": {
    "hash": "1f58d64cf1ba59b352ba9e32e63a10652a6293bdfec3eaea2009a00be7854034"
   }
  }
 },
 "nbformat": 4,
 "nbformat_minor": 5
}
